{
 "cells": [
  {
   "cell_type": "markdown",
   "metadata": {},
   "source": [
    "<h1>Multifile LDA demo</h1>"
   ]
  },
  {
   "cell_type": "code",
   "execution_count": 1,
   "metadata": {
    "collapsed": false
   },
   "outputs": [],
   "source": [
    "%load_ext autoreload\n",
    "%autoreload 2\n",
    "%matplotlib inline\n",
    "\n",
    "import pylab as plt\n",
    "import numpy as np\n",
    "import pandas as pd\n",
    "from IPython.display import display, HTML\n",
    "\n",
    "from multifile_lda import MultifileLDA"
   ]
  },
  {
   "cell_type": "markdown",
   "metadata": {},
   "source": [
    "<h2>1. Extract features for LDA</h2>"
   ]
  },
  {
   "cell_type": "markdown",
   "metadata": {},
   "source": [
    "Create a new multifile LDA object and load the input files for beer1, 2, 3 (ignore the misleading filenames)."
   ]
  },
  {
   "cell_type": "code",
   "execution_count": 2,
   "metadata": {
    "collapsed": true
   },
   "outputs": [],
   "source": [
    "input_set = [\n",
    "             ('input/beer3pos_ms1_1.csv','input/beer3pos_ms2_1.csv'),\n",
    "             ('input/beer3pos_ms1_2.csv','input/beer3pos_ms2_2.csv'),\n",
    "             ('input/beer3pos_ms1_3.csv','input/beer3pos_ms2_3.csv')\n",
    "             ]"
   ]
  },
  {
   "cell_type": "markdown",
   "metadata": {},
   "source": [
    "Extract word features from MS1 and MS2 tables. Previously this was done in R, now it's in Python.\n",
    "\n",
    "Then normalise the data the same way as in the single-file version: within each fragmentation spectrum, we divide the MS2 intensities by the max MS2 intensity in the same spectrum and multiplying by *scaling_factor*."
   ]
  },
  {
   "cell_type": "code",
   "execution_count": 3,
   "metadata": {
    "collapsed": false,
    "scrolled": true
   },
   "outputs": [
    {
     "name": "stdout",
     "output_type": "stream",
     "text": [
      "Loading input/beer3pos_ms1_1.csv\n",
      "Loading input/beer3pos_ms2_1.csv\n",
      "Loading input/beer3pos_ms1_2.csv\n",
      "Loading input/beer3pos_ms2_2.csv\n",
      "Loading input/beer3pos_ms1_3.csv\n",
      "Loading input/beer3pos_ms2_3.csv\n",
      "Processing fragments for file 0\n",
      "Processing fragments for file 1\n",
      "Processing fragments for file 2\n",
      "Total groups=2032\n",
      "Processing losses for file 0\n",
      "Processing losses for file 1\n",
      "Processing losses for file 2\n",
      "Total groups=234\n",
      "Populating dataframe for fragment group 0/2032\n",
      "Populating dataframe for fragment group 100/2032\n",
      "Populating dataframe for fragment group 200/2032\n",
      "Populating dataframe for fragment group 300/2032\n",
      "Populating dataframe for fragment group 400/2032\n",
      "Populating dataframe for fragment group 500/2032\n",
      "Populating dataframe for fragment group 600/2032\n",
      "Populating dataframe for fragment group 700/2032\n",
      "Populating dataframe for fragment group 800/2032\n",
      "Populating dataframe for fragment group 900/2032\n",
      "Populating dataframe for fragment group 1000/2032\n",
      "Populating dataframe for fragment group 1100/2032\n",
      "Populating dataframe for fragment group 1200/2032\n",
      "Populating dataframe for fragment group 1300/2032\n",
      "Populating dataframe for fragment group 1400/2032\n",
      "Populating dataframe for fragment group 1500/2032\n",
      "Populating dataframe for fragment group 1600/2032\n",
      "Populating dataframe for fragment group 1700/2032\n",
      "Populating dataframe for fragment group 1800/2032\n",
      "Populating dataframe for fragment group 1900/2032\n",
      "Populating dataframe for fragment group 2000/2032\n",
      "Populating dataframe for loss group 0/234\n",
      "Populating dataframe for loss group 100/234\n",
      "Populating dataframe for loss group 200/234\n",
      "file 0 data shape (700, 2266)\n",
      "file 1 data shape (808, 2266)\n",
      "file 2 data shape (737, 2266)\n"
     ]
    }
   ],
   "source": [
    "scaling_factor=10 # previously set to 100 in the single file LDA \n",
    "lda = MultifileLDA()\n",
    "lda.load_all(input_set, scaling_factor, 1)"
   ]
  },
  {
   "cell_type": "markdown",
   "metadata": {},
   "source": [
    "<h2>2. Run multifile LDA on all the 3 files.</h2>"
   ]
  },
  {
   "cell_type": "code",
   "execution_count": null,
   "metadata": {
    "collapsed": false,
    "scrolled": true
   },
   "outputs": [],
   "source": [
    "K = 300\n",
    "n_samples = 1000\n",
    "n_burn = 0\n",
    "n_thin = 1\n",
    "alpha = 50.0/K\n",
    "beta = 0.1\n",
    "lda.run(K, alpha, beta, n_burn, n_samples, n_thin)"
   ]
  },
  {
   "cell_type": "code",
   "execution_count": 5,
   "metadata": {
    "collapsed": false
   },
   "outputs": [
    {
     "name": "stdout",
     "output_type": "stream",
     "text": [
      "Project saved to results/beer_analysis.project time taken = 7.786206007\n"
     ]
    }
   ],
   "source": [
    "lda.save_project('results/beer_analysis.project', 'Initial test by Joe')"
   ]
  },
  {
   "cell_type": "markdown",
   "metadata": {},
   "source": [
    "Or load an existing project"
   ]
  },
  {
   "cell_type": "code",
   "execution_count": 167,
   "metadata": {
    "collapsed": false
   },
   "outputs": [
    {
     "name": "stdout",
     "output_type": "stream",
     "text": [
      "Project loaded from results/beer_analysis.project time taken = 4.20000290871\n"
     ]
    }
   ],
   "source": [
    "lda = MultifileLDA.resume_from('results/beer_analysis.project')"
   ]
  },
  {
   "cell_type": "code",
   "execution_count": 168,
   "metadata": {
    "collapsed": false
   },
   "outputs": [],
   "source": [
    "lda.do_thresholding(th_doc_topic=0.05, th_topic_word=0.01)"
   ]
  },
  {
   "cell_type": "code",
   "execution_count": null,
   "metadata": {
    "collapsed": false,
    "scrolled": true
   },
   "outputs": [],
   "source": [
    "lda.print_top_words()"
   ]
  },
  {
   "cell_type": "markdown",
   "metadata": {},
   "source": [
    "<h2>3. Ferulic Acid</h2>"
   ]
  },
  {
   "cell_type": "markdown",
   "metadata": {},
   "source": [
    "From the excel doc, fragments indicative of ferulic acid substructure are:\n",
    "- fragment_177.0547\n",
    "- fragment_145.0284\n",
    "- fragment_89.0386\n",
    "- fragment_117.0331\n",
    "- fragment_149.0599\n",
    "\n",
    "From multifile LDA, we found the following three topics (113, 217, 262) that explain the set of fragments above. In fact, the three topics seem to be containing mostly the same fragments .. ? "
   ]
  },
  {
   "cell_type": "code",
   "execution_count": 174,
   "metadata": {
    "collapsed": false
   },
   "outputs": [
    {
     "name": "stdout",
     "output_type": "stream",
     "text": [
      "Mass2Motif 113: fragment_177.05474 (0.162), fragment_145.02849 (0.120), fragment_89.03865 (0.103), fragment_117.03319 (0.089), loss_130.0469 (0.017), fragment_149.05996 (0.014), fragment_322.21259 (0.010),\n",
      "\n",
      "Mass2Motif 217: fragment_89.03865 (0.109), fragment_145.02849 (0.105), fragment_177.05474 (0.092), fragment_117.03319 (0.081), loss_130.0469 (0.020), fragment_364.22195 (0.015), fragment_114.10276 (0.011),\n",
      "\n",
      "Mass2Motif 262: fragment_177.05474 (0.141), fragment_145.02849 (0.106), fragment_89.03865 (0.100), fragment_117.03319 (0.081), fragment_289.13702 (0.019), loss_130.0469 (0.018), fragment_121.07626 (0.018), fragment_144.08067 (0.012), fragment_149.05996 (0.012),\n",
      "\n"
     ]
    }
   ],
   "source": [
    "interesting = [262, 113, 217]\n",
    "lda.print_top_words(with_probabilities=True, selected=interesting)"
   ]
  },
  {
   "cell_type": "markdown",
   "metadata": {},
   "source": [
    "We plot the expected value of the Dirichlet prior on the document-topic distribution for each file. It seems each file has the tendency to form its own per-file topic, rather than sharing the same topic across files ..?\n",
    "- Topic 113 has a high probability in file0 (beer1)\n",
    "- Topic 262 has a high probability in file1 (beer2)\n",
    "- Topic 217 has a high probability in file2 (beer3)"
   ]
  },
  {
   "cell_type": "code",
   "execution_count": 171,
   "metadata": {
    "collapsed": false
   },
   "outputs": [
    {
     "data": {
      "image/png": "[encoded data removed]",
      "text/plain": [
       "<matplotlib.figure.Figure at 0x1286a1890>"
      ]
     },
     "metadata": {},
     "output_type": "display_data"
    }
   ],
   "source": [
    "_ = lda.plot_e_alphas(interesting)"
   ]
  },
  {
   "cell_type": "markdown",
   "metadata": {},
   "source": [
    "<h2>4. Histidine</h2>"
   ]
  },
  {
   "cell_type": "markdown",
   "metadata": {},
   "source": [
    "From excel, the Histidine fragments are:\n",
    "- fragment_110.0718\n",
    "- fragment_156.0769\n",
    "- fragment_93.0450\n",
    "- fragment_95.0608\n",
    "\n",
    "From multifile LDA, we found the following topics (70, 74, 284) that explain most of the Histdine fragments above, but in these topics, we also see a lot of other words that weren't there before in the Histidine topic for the single-file LDA .. e.g. loss_132.04202, fragment_83.06043, etc."
   ]
  },
  {
   "cell_type": "code",
   "execution_count": 175,
   "metadata": {
    "collapsed": false
   },
   "outputs": [
    {
     "name": "stdout",
     "output_type": "stream",
     "text": [
      "Mass2Motif 70: fragment_110.07169 (0.213), loss_132.04202 (0.188), fragment_83.06043 (0.059), fragment_156.07687 (0.028), fragment_82.05254 (0.023), loss_73.01609 (0.020), fragment_152.05642 (0.016), fragment_113.03411 (0.014), fragment_150.07841 (0.014), fragment_164.09267 (0.013), fragment_122.07177 (0.011),\n",
      "\n",
      "Mass2Motif 74: fragment_110.07169 (0.236), fragment_83.06043 (0.081), loss_73.01609 (0.070), fragment_156.07687 (0.043), fragment_82.05254 (0.036), loss_125.04751 (0.032), fragment_93.0451 (0.023), fragment_81.04493 (0.016), fragment_122.07177 (0.013),\n",
      "\n",
      "Mass2Motif 284: fragment_110.07169 (0.162), fragment_83.06043 (0.066), fragment_82.05254 (0.039), fragment_109.03971 (0.022), loss_73.01609 (0.022), fragment_122.07177 (0.017), fragment_156.07687 (0.017), fragment_81.04493 (0.017), fragment_93.0451 (0.013), fragment_167.09175 (0.010), loss_45.02143 (0.010),\n",
      "\n"
     ]
    },
    {
     "data": {
      "image/png": "[encoded data removed]",
      "text/plain": [
       "<matplotlib.figure.Figure at 0x11c5e5190>"
      ]
     },
     "metadata": {},
     "output_type": "display_data"
    }
   ],
   "source": [
    "interesting = [70, 74, 284]\n",
    "lda.print_top_words(with_probabilities=True, selected=interesting)\n",
    "_ = lda.plot_e_alphas(interesting)"
   ]
  },
  {
   "cell_type": "markdown",
   "metadata": {},
   "source": [
    "<h2>5. Phenylalanine</h2>"
   ]
  },
  {
   "cell_type": "markdown",
   "metadata": {},
   "source": [
    "From excel, phenylalanine substucture are:\n",
    "- fragment_120.0808\n",
    "- fragment_103.0546\n",
    "- fragment_91.0541"
   ]
  },
  {
   "cell_type": "code",
   "execution_count": 177,
   "metadata": {
    "collapsed": false
   },
   "outputs": [
    {
     "name": "stdout",
     "output_type": "stream",
     "text": [
      "Mass2Motif 99: fragment_310.12719 (0.064), fragment_292.11654 (0.057), fragment_120.08049 (0.051), fragment_103.0545 (0.042), fragment_132.0814 (0.040), fragment_91.05413 (0.033), fragment_264.1244 (0.027), fragment_105.07018 (0.022), loss_198.07392 (0.020), fragment_166.08634 (0.020), loss_190.04773 (0.018), fragment_69.03369 (0.013), fragment_85.02834 (0.011),\n",
      "\n",
      "Mass2Motif 158: fragment_120.08049 (0.199), fragment_103.0545 (0.074), fragment_91.05413 (0.061), fragment_292.11654 (0.053), fragment_132.0814 (0.040), loss_190.04773 (0.038), fragment_166.08634 (0.036), fragment_310.12719 (0.028), loss_178.04752 (0.023), fragment_130.06488 (0.019), fragment_112.03965 (0.019), fragment_79.05418 (0.018), fragment_264.1244 (0.017), loss_180.06327 (0.017), fragment_105.07018 (0.016), fragment_97.02839 (0.015), loss_144.04183 (0.013),\n",
      "\n",
      "Mass2Motif 295: fragment_120.08049 (0.246), fragment_103.0545 (0.085), fragment_91.05413 (0.050), fragment_292.11654 (0.048), fragment_105.07018 (0.047), fragment_132.0814 (0.044), fragment_166.08634 (0.036), fragment_264.1244 (0.025), fragment_310.12719 (0.022), fragment_130.06488 (0.017), loss_198.07392 (0.014), loss_180.06327 (0.014), fragment_79.05418 (0.013),\n",
      "\n"
     ]
    },
    {
     "data": {
      "image/png": "[encoded data removed]",
      "text/plain": [
       "<matplotlib.figure.Figure at 0x1287f3f10>"
      ]
     },
     "metadata": {},
     "output_type": "display_data"
    }
   ],
   "source": [
    "interesting = [99, 158, 295]\n",
    "lda.print_top_words(with_probabilities=True, selected=interesting)\n",
    "_ = lda.plot_e_alphas(interesting)"
   ]
  },
  {
   "cell_type": "code",
   "execution_count": null,
   "metadata": {
    "collapsed": true
   },
   "outputs": [],
   "source": []
  }
 ],
 "metadata": {
  "kernelspec": {
   "display_name": "Python 2",
   "language": "python",
   "name": "python2"
  },
  "language_info": {
   "codemirror_mode": {
    "name": "ipython",
    "version": 2
   },
   "file_extension": ".py",
   "mimetype": "text/x-python",
   "name": "python",
   "nbconvert_exporter": "python",
   "pygments_lexer": "ipython2",
   "version": "2.7.11"
  }
 },
 "nbformat": 4,
 "nbformat_minor": 0
}

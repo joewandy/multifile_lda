{
 "cells": [
  {
   "cell_type": "markdown",
   "metadata": {},
   "source": [
    "<h1>Test with synthetic data</h1>"
   ]
  },
  {
   "cell_type": "code",
   "execution_count": 41,
   "metadata": {
    "collapsed": false
   },
   "outputs": [
    {
     "name": "stdout",
     "output_type": "stream",
     "text": [
      "The autoreload extension is already loaded. To reload it, use:\n",
      "  %reload_ext autoreload\n"
     ]
    }
   ],
   "source": [
    "%load_ext autoreload\n",
    "%autoreload 2\n",
    "%matplotlib inline\n",
    "\n",
    "import pylab as plt\n",
    "import numpy as np\n",
    "import pandas as pd\n",
    "import seaborn as sns\n",
    "from IPython.display import display, HTML\n",
    "\n",
    "from multifile_lda import MultifileLDA\n",
    "from multifile_analysis import MultifileAnalysis\n",
    "from multifile_viz import MultifileLDAViz\n",
    "from lda_generate_data import LdaDataGenerator"
   ]
  },
  {
   "cell_type": "markdown",
   "metadata": {},
   "source": [
    "<h2>1. Generate some synthetic data</h2>"
   ]
  },
  {
   "cell_type": "code",
   "execution_count": 42,
   "metadata": {
    "collapsed": false
   },
   "outputs": [],
   "source": [
    "K = 10\n",
    "n_docs = 100\n",
    "vocab_size = 200\n",
    "document_length = 100\n",
    "copies = 1\n",
    "\n",
    "alpha = 0.1\n",
    "beta = 0.01    "
   ]
  },
  {
   "cell_type": "code",
   "execution_count": 43,
   "metadata": {
    "collapsed": true
   },
   "outputs": [],
   "source": [
    "gen = LdaDataGenerator(alpha, make_plot=True)"
   ]
  },
  {
   "cell_type": "code",
   "execution_count": 44,
   "metadata": {
    "collapsed": false
   },
   "outputs": [
    {
     "name": "stdout",
     "output_type": "stream",
     "text": [
      "Generating count matrices\n"
     ]
    },
    {
     "data": {
      "image/png": "[encoded data removed]",
      "text/plain": [
       "<matplotlib.figure.Figure at 0x1182fc290>"
      ]
     },
     "metadata": {},
     "output_type": "display_data"
    },
    {
     "name": "stdout",
     "output_type": "stream",
     "text": [
      "(100, 200)\n"
     ]
    },
    {
     "data": {
      "image/png": "[encoded data removed]",
      "text/plain": [
       "<matplotlib.figure.Figure at 0x11854f150>"
      ]
     },
     "metadata": {},
     "output_type": "display_data"
    }
   ],
   "source": [
    "counts, vocab = gen.generate_input_counts(K, vocab_size, document_length, n_docs, copies)"
   ]
  },
  {
   "cell_type": "code",
   "execution_count": 45,
   "metadata": {
    "collapsed": false
   },
   "outputs": [
    {
     "name": "stdout",
     "output_type": "stream",
     "text": [
      "['word_0' 'word_1' 'word_2' 'word_3' 'word_4' 'word_5' 'word_6' 'word_7'\n",
      " 'word_8' 'word_9']\n"
     ]
    }
   ],
   "source": [
    "print vocab[0:10]"
   ]
  },
  {
   "cell_type": "markdown",
   "metadata": {},
   "source": [
    "<h2>2. Run LDA</h2>"
   ]
  },
  {
   "cell_type": "code",
   "execution_count": 46,
   "metadata": {
    "collapsed": false,
    "scrolled": false
   },
   "outputs": [
    {
     "name": "stdout",
     "output_type": "stream",
     "text": [
      "Initialising \n",
      " - file 0 ..........\n",
      "\n",
      "Using Numpy for multi-file LDA sampling\n",
      "Burn-in     1 .  Log likelihood = -79167.914 \n",
      "Burn-in     2 .  Log likelihood = -71205.566 \n",
      "Burn-in     3 .  Log likelihood = -60822.835 \n",
      "Burn-in     4 .  Log likelihood = -52902.488 \n",
      "Burn-in     5 .  Log likelihood = -48264.352 \n",
      "Burn-in     6 .  Log likelihood = -45953.132 \n",
      "Burn-in     7 .  Log likelihood = -44438.467 \n",
      "Burn-in     8 .  Log likelihood = -43650.312 \n",
      "Burn-in     9 .  Log likelihood = -43220.659 \n",
      "Burn-in    10 .  Log likelihood = -42797.065 \n",
      "Burn-in    11 .  Log likelihood = -42441.018 \n",
      "Burn-in    12 .  Log likelihood = -42175.282 \n",
      "Burn-in    13 .  Log likelihood = -41705.298 \n",
      "Burn-in    14 .  Log likelihood = -41675.155 \n",
      "Burn-in    15 .  Log likelihood = -41415.357 \n",
      "Burn-in    16 .  Log likelihood = -41267.978 \n",
      "Burn-in    17 .  Log likelihood = -41206.576 \n",
      "Burn-in    18 .  Log likelihood = -41194.516 \n",
      "Burn-in    19 .  Log likelihood = -41059.647 \n",
      "Burn-in    20 .  Log likelihood = -40829.300 \n",
      "Burn-in    21 .  Log likelihood = -40720.018 \n",
      "Burn-in    22 .  Log likelihood = -40622.137 \n",
      "Burn-in    23 .  Log likelihood = -40555.548 \n",
      "Burn-in    24 .  Log likelihood = -40463.655 \n",
      "Burn-in    25 .  Log likelihood = -40388.332 \n",
      "Burn-in    26 .  Log likelihood = -40376.815 \n",
      "Burn-in    27 .  Log likelihood = -40375.914 \n",
      "Burn-in    28 .  Log likelihood = -40370.777 \n",
      "Burn-in    29 .  Log likelihood = -40216.110 \n",
      "Burn-in    30 .  Log likelihood = -40144.466 \n",
      "Burn-in    31 .  Log likelihood = -40134.088 \n",
      "Burn-in    32 .  Log likelihood = -40162.593 \n",
      "Burn-in    33 .  Log likelihood = -40080.556 \n",
      "Burn-in    34 .  Log likelihood = -40075.268 \n",
      "Burn-in    35 .  Log likelihood = -40072.333 \n",
      "Burn-in    36 .  Log likelihood = -40121.925 \n",
      "Burn-in    37 .  Log likelihood = -40152.788 \n",
      "Burn-in    38 .  Log likelihood = -40120.998 \n",
      "Burn-in    39 .  Log likelihood = -40092.143 \n",
      "Burn-in    40 .  Log likelihood = -40123.040 \n",
      "Burn-in    41 .  Log likelihood = -40087.401 \n",
      "Burn-in    42 .  Log likelihood = -40099.634 \n",
      "Burn-in    43 .  Log likelihood = -40070.856 \n",
      "Burn-in    44 .  Log likelihood = -40078.356 \n",
      "Burn-in    45 .  Log likelihood = -40069.700 \n",
      "Burn-in    46 .  Log likelihood = -40131.021 \n",
      "Burn-in    47 .  Log likelihood = -40085.559 \n",
      "Burn-in    48 .  Log likelihood = -40141.863 \n",
      "Burn-in    49 .  Log likelihood = -40083.671 \n",
      "Burn-in    50 .  Log likelihood = -40067.553 \n",
      "Burn-in    51 .  Log likelihood = -40092.477 \n",
      "Burn-in    52 .  Log likelihood = -40125.929 \n",
      "Burn-in    53 .  Log likelihood = -40125.329 \n",
      "Burn-in    54 .  Log likelihood = -40109.647 \n",
      "Burn-in    55 .  Log likelihood = -40148.106 \n",
      "Burn-in    56 .  Log likelihood = -40128.453 \n",
      "Burn-in    57 .  Log likelihood = -40132.553 \n",
      "Burn-in    58 .  Log likelihood = -40137.612 \n",
      "Burn-in    59 .  Log likelihood = -40116.881 \n",
      "Burn-in    60 .  Log likelihood = -40131.108 \n",
      "Burn-in    61 .  Log likelihood = -40168.938 \n",
      "Burn-in    62 .  Log likelihood = -40094.073 \n",
      "Burn-in    63 .  Log likelihood = -40104.096 \n",
      "Burn-in    64 .  Log likelihood = -40105.558 \n",
      "Burn-in    65 .  Log likelihood = -40091.551 \n",
      "Burn-in    66 .  Log likelihood = -40117.528 \n",
      "Burn-in    67 .  Log likelihood = -40119.590 \n",
      "Burn-in    68 .  Log likelihood = -40098.205 \n",
      "Burn-in    69 .  Log likelihood = -40096.435 \n",
      "Burn-in    70 .  Log likelihood = -40079.193 \n",
      "Burn-in    71 .  Log likelihood = -40145.058 \n",
      "Burn-in    72 .  Log likelihood = -40094.291 \n",
      "Burn-in    73 .  Log likelihood = -40083.306 \n",
      "Burn-in    74 .  Log likelihood = -40115.622 \n",
      "Burn-in    75 .  Log likelihood = -40100.242 \n",
      "Burn-in    76 .  Log likelihood = -40149.434 \n",
      "Burn-in    77 .  Log likelihood = -40131.387 \n",
      "Burn-in    78 .  Log likelihood = -40134.648 \n",
      "Burn-in    79 .  Log likelihood = -40118.744 \n",
      "Burn-in    80 .  Log likelihood = -40138.593 \n",
      "Burn-in    81 .  Log likelihood = -40160.048 \n",
      "Burn-in    82 .  Log likelihood = -40119.572 \n",
      "Burn-in    83 .  Log likelihood = -40121.355 \n",
      "Burn-in    84 .  Log likelihood = -40097.922 \n",
      "Burn-in    85 .  Log likelihood = -40169.697 \n",
      "Burn-in    86 .  Log likelihood = -40166.953 \n",
      "Burn-in    87 .  Log likelihood = -40115.208 \n",
      "Burn-in    88 .  Log likelihood = -40100.114 \n",
      "Burn-in    89 .  Log likelihood = -40140.057 \n",
      "Burn-in    90 .  Log likelihood = -40091.539 \n",
      "Burn-in    91 .  Log likelihood = -40075.123 \n",
      "Burn-in    92 .  Log likelihood = -40095.515 \n",
      "Burn-in    93 .  Log likelihood = -40085.151 \n",
      "Burn-in    94 .  Log likelihood = -40126.163 \n",
      "Burn-in    95 .  Log likelihood = -40115.933 \n",
      "Burn-in    96 .  Log likelihood = -40128.712 \n",
      "Burn-in    97 .  Log likelihood = -40066.466 \n",
      "Burn-in    98 .  Log likelihood = -40123.713 \n",
      "Burn-in    99 .  Log likelihood = -40130.768 \n",
      "Sample    100 .  Log likelihood = -40103.749 \n",
      "Sample    101 .  Log likelihood = -40118.216 \n",
      "Sample    102 .  Log likelihood = -40118.526 \n",
      "Sample    103 .  Log likelihood = -40096.520 \n",
      "Sample    104 .  Log likelihood = -40138.281 \n",
      "Sample    105 .  Log likelihood = -40121.639 \n",
      "Sample    106 .  Log likelihood = -40127.664 \n",
      "Sample    107 .  Log likelihood = -40103.278 \n",
      "Sample    108 .  Log likelihood = -40131.550 \n",
      "Sample    109 .  Log likelihood = -40074.775 \n",
      "Sample    110 .  Log likelihood = -40086.123 \n",
      "Sample    111 .  Log likelihood = -40164.284 \n",
      "Sample    112 .  Log likelihood = -40123.140 \n",
      "Sample    113 .  Log likelihood = -40070.444 \n",
      "Sample    114 .  Log likelihood = -40108.079 \n",
      "Sample    115 .  Log likelihood = -40148.982 \n",
      "Sample    116 .  Log likelihood = -40112.245 \n",
      "Sample    117 .  Log likelihood = -40075.686 \n",
      "Sample    118 .  Log likelihood = -40115.775 \n",
      "Sample    119 .  Log likelihood = -40118.054 \n",
      "Sample    120 .  Log likelihood = -40070.659 \n",
      "Sample    121 .  Log likelihood = -40134.518 \n",
      "Sample    122 .  Log likelihood = -40101.518 \n",
      "Sample    123 .  Log likelihood = -40093.751 \n",
      "Sample    124 .  Log likelihood = -40098.689 \n",
      "Sample    125 .  Log likelihood = -40103.175 \n",
      "Sample    126 .  Log likelihood = -40108.006 \n",
      "Sample    127 .  Log likelihood = -40092.717 \n",
      "Sample    128 .  Log likelihood = -40125.327 \n",
      "Sample    129 .  Log likelihood = -40106.640 \n",
      "Sample    130 .  Log likelihood = -40116.842 \n",
      "Sample    131 .  Log likelihood = -40102.452 \n",
      "Sample    132 .  Log likelihood = -40047.853 \n",
      "Sample    133 .  Log likelihood = -40092.330 \n",
      "Sample    134 .  Log likelihood = -40093.662 \n",
      "Sample    135 .  Log likelihood = -40041.253 \n",
      "Sample    136 .  Log likelihood = -40079.748 \n",
      "Sample    137 .  Log likelihood = -40083.242 \n",
      "Sample    138 .  Log likelihood = -40086.507 \n",
      "Sample    139 .  Log likelihood = -40088.357 \n",
      "Sample    140 .  Log likelihood = -40101.827 \n",
      "Sample    141 .  Log likelihood = -40116.146 \n",
      "Sample    142 .  Log likelihood = -40125.309 \n",
      "Sample    143 .  Log likelihood = -40114.249 \n",
      "Sample    144 .  Log likelihood = -40112.645 \n",
      "Sample    145 .  Log likelihood = -40091.900 \n",
      "Sample    146 .  Log likelihood = -40124.495 \n",
      "Sample    147 .  Log likelihood = -40107.151 \n",
      "Sample    148 .  Log likelihood = -40108.784 \n",
      "Sample    149 .  Log likelihood = -40125.546 \n",
      "Sample    150 .  Log likelihood = -40081.931 \n",
      "Sample    151 .  Log likelihood = -40085.625 \n",
      "Sample    152 .  Log likelihood = -40105.924 \n",
      "Sample    153 .  Log likelihood = -40126.864 \n",
      "Sample    154 .  Log likelihood = -40152.760 \n",
      "Sample    155 .  Log likelihood = -40143.672 \n",
      "Sample    156 .  Log likelihood = -40123.947 \n",
      "Sample    157 .  Log likelihood = -40088.165 \n",
      "Sample    158 .  Log likelihood = -40103.444 \n",
      "Sample    159 .  Log likelihood = -40131.452 \n",
      "Sample    160 .  Log likelihood = -40123.645 \n",
      "Sample    161 .  Log likelihood = -40122.238 \n",
      "Sample    162 .  Log likelihood = -40149.889 \n",
      "Sample    163 .  Log likelihood = -40093.466 \n",
      "Sample    164 .  Log likelihood = -40092.323 \n",
      "Sample    165 .  Log likelihood = -40080.720 \n",
      "Sample    166 .  Log likelihood = -40147.652 \n",
      "Sample    167 .  Log likelihood = -40099.891 \n",
      "Sample    168 .  Log likelihood = -40068.567 \n",
      "Sample    169 .  Log likelihood = -40119.390 \n",
      "Sample    170 .  Log likelihood = -40094.381 \n",
      "Sample    171 .  Log likelihood = -40110.530 \n",
      "Sample    172 .  Log likelihood = -40123.233 \n",
      "Sample    173 .  Log likelihood = -40162.908 \n",
      "Sample    174 .  Log likelihood = -40135.920 \n",
      "Sample    175 .  Log likelihood = -40162.398 \n",
      "Sample    176 .  Log likelihood = -40141.054 \n",
      "Sample    177 .  Log likelihood = -40114.747 \n",
      "Sample    178 .  Log likelihood = -40090.551 \n",
      "Sample    179 .  Log likelihood = -40120.660 \n",
      "Sample    180 .  Log likelihood = -40067.084 \n",
      "Sample    181 .  Log likelihood = -40120.560 \n",
      "Sample    182 .  Log likelihood = -40090.889 \n",
      "Sample    183 .  Log likelihood = -40113.289 \n",
      "Sample    184 .  Log likelihood = -40081.695 \n",
      "Sample    185 .  Log likelihood = -40118.316 \n",
      "Sample    186 .  Log likelihood = -40075.070 \n",
      "Sample    187 .  Log likelihood = -40092.219 \n",
      "Sample    188 .  Log likelihood = -40117.324 \n",
      "Sample    189 .  Log likelihood = -40091.063 \n",
      "Sample    190 .  Log likelihood = -40084.261 \n",
      "Sample    191 .  Log likelihood = -40102.569 \n",
      "Sample    192 .  Log likelihood = -40088.411 \n",
      "Sample    193 .  Log likelihood = -40103.195 \n",
      "Sample    194 .  Log likelihood = -40082.658 \n",
      "Sample    195 .  Log likelihood = -40090.281 \n",
      "Sample    196 .  Log likelihood = -40088.137 \n",
      "Sample    197 .  Log likelihood = -40068.836 \n",
      "Sample    198 .  Log likelihood = -40056.323 \n",
      "Sample    199 .  Log likelihood = -40112.190 \n",
      "Sample    200 .  Log likelihood = -40122.880 \n",
      "S=20, using all samples.\n",
      "Averaging over topic_words\n",
      "Averaging over doc_topics\n",
      "Averaging over posterior alphas\n"
     ]
    }
   ],
   "source": [
    "lda = MultifileLDA(counts, vocab)\n",
    "n_samples = 200\n",
    "n_burn = 100\n",
    "n_thin = 5\n",
    "lda.run(K, alpha, beta, n_burn, n_samples, n_thin)"
   ]
  },
  {
   "cell_type": "code",
   "execution_count": 47,
   "metadata": {
    "collapsed": false
   },
   "outputs": [
    {
     "data": {
      "text/plain": [
       "[<matplotlib.lines.Line2D at 0x118339610>]"
      ]
     },
     "execution_count": 47,
     "metadata": {},
     "output_type": "execute_result"
    },
    {
     "data": {
      "image/png": "[encoded data removed]",
      "text/plain": [
       "<matplotlib.figure.Figure at 0x118655150>"
      ]
     },
     "metadata": {},
     "output_type": "display_data"
    }
   ],
   "source": [
    "plt.plot(lda.log_likelihoods)"
   ]
  },
  {
   "cell_type": "code",
   "execution_count": 48,
   "metadata": {
    "collapsed": false
   },
   "outputs": [
    {
     "data": {
      "image/png": "[encoded data removed]",
      "text/plain": [
       "<matplotlib.figure.Figure at 0x1186d3e10>"
      ]
     },
     "metadata": {},
     "output_type": "display_data"
    }
   ],
   "source": [
    "gen._plot_nicely(lda.topic_word_, 'Inferred Topics X Words', 'words', 'topics')"
   ]
  },
  {
   "cell_type": "code",
   "execution_count": 49,
   "metadata": {
    "collapsed": false
   },
   "outputs": [
    {
     "name": "stdout",
     "output_type": "stream",
     "text": [
      "20\n"
     ]
    }
   ],
   "source": [
    "pa = lda.posterior_alphas\n",
    "print len(pa)"
   ]
  },
  {
   "cell_type": "code",
   "execution_count": 50,
   "metadata": {
    "collapsed": false
   },
   "outputs": [],
   "source": [
    "analysis = MultifileAnalysis()\n",
    "analysis.load_synthetic(counts, vocab, lda)\n",
    "viz = MultifileLDAViz(analysis)"
   ]
  },
  {
   "cell_type": "code",
   "execution_count": 51,
   "metadata": {
    "collapsed": false
   },
   "outputs": [
    {
     "data": {
      "image/png": "[encoded data removed]",
      "text/plain": [
       "<matplotlib.figure.Figure at 0x117b60dd0>"
      ]
     },
     "metadata": {},
     "output_type": "display_data"
    }
   ],
   "source": [
    "df = viz.plot_e_alphas()"
   ]
  },
  {
   "cell_type": "code",
   "execution_count": 52,
   "metadata": {
    "collapsed": false
   },
   "outputs": [
    {
     "data": {
      "image/png": "[encoded data removed]",
      "text/plain": [
       "<matplotlib.figure.Figure at 0x11694dd50>"
      ]
     },
     "metadata": {},
     "output_type": "display_data"
    }
   ],
   "source": [
    "df = viz.plot_boxplot_alphas()"
   ]
  },
  {
   "cell_type": "code",
   "execution_count": null,
   "metadata": {
    "collapsed": true
   },
   "outputs": [],
   "source": []
  }
 ],
 "metadata": {
  "kernelspec": {
   "display_name": "Python 2",
   "language": "python",
   "name": "python2"
  },
  "language_info": {
   "codemirror_mode": {
    "name": "ipython",
    "version": 2
   },
   "file_extension": ".py",
   "mimetype": "text/x-python",
   "name": "python",
   "nbconvert_exporter": "python",
   "pygments_lexer": "ipython2",
   "version": "2.7.11"
  }
 },
 "nbformat": 4,
 "nbformat_minor": 0
}
